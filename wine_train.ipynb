{
 "cells": [
  {
   "cell_type": "code",
   "execution_count": 104,
   "metadata": {},
   "outputs": [],
   "source": [
    "import ast \n",
    "import numpy as np\n",
    "import pandas as pd\n",
    "\n",
    "from sklearn.svm import SVC\n",
    "from sklearn.naive_bayes import GaussianNB\n",
    "from sklearn.naive_bayes import BernoulliNB\n",
    "from sklearn.multiclass import OneVsOneClassifier\n",
    "from sklearn.neural_network import MLPClassifier\n",
    "\n",
    "from sklearn.metrics import recall_score, accuracy_score, precision_score, f1_score, confusion_matrix"
   ]
  },
  {
   "cell_type": "code",
   "execution_count": 46,
   "metadata": {},
   "outputs": [
    {
     "name": "stdout",
     "output_type": "stream",
     "text": [
      "\u001b[0m\u001b[01;32mred_test.csv\u001b[0m*  \u001b[01;32mred_train.csv\u001b[0m*  \u001b[01;32mwhite_test.csv\u001b[0m*  \u001b[01;32mwhite_train.csv\u001b[0m*  \u001b[34;42mwine\u001b[0m/\r\n"
     ]
    }
   ],
   "source": [
    "%ls data/"
   ]
  },
  {
   "cell_type": "code",
   "execution_count": 105,
   "metadata": {},
   "outputs": [],
   "source": [
    "rtrain = pd.read_csv('data/red_train.csv')\n",
    "wtrain = pd.read_csv('data/white_train.csv')\n",
    "\n",
    "rtest = pd.read_csv('data/red_test.csv')\n",
    "wtest = pd.read_csv('data/white_test.csv')\n",
    "\n",
    "wx_test = wtest.iloc[:,:-2].to_numpy()\n",
    "wy_test = wtest.iloc[:,-1].to_numpy()\n",
    "rx_test = rtest.iloc[:,:-2].to_numpy()\n",
    "ry_test = rtest.iloc[:,-1].to_numpy()\n",
    "\n",
    "wx = wtrain.iloc[:,:-2].to_numpy()\n",
    "wy = wtrain.iloc[:,-1].to_numpy()\n",
    "rx = rtrain.iloc[:,:-2].to_numpy()\n",
    "ry = rtrain.iloc[:,-1].to_numpy()"
   ]
  },
  {
   "cell_type": "markdown",
   "metadata": {},
   "source": [
    "# Multi-layer Perceptron Classifier"
   ]
  },
  {
   "cell_type": "markdown",
   "metadata": {},
   "source": [
    "### Red wine quality"
   ]
  },
  {
   "cell_type": "code",
   "execution_count": 106,
   "metadata": {},
   "outputs": [
    {
     "name": "stdout",
     "output_type": "stream",
     "text": [
      "accuracy_score:   \t 0.5662878787878788 \n",
      "precision_score:\t 0.6049774685290771 \n",
      "recall_score:   \t 0.5662878787878788 \n",
      "f1_score:       \t 0.5824525900088132\n",
      "confusion_matrix:\n",
      " [[  0   1   0   0   0   0]\n",
      " [  1   0   4   0   0   0]\n",
      " [  2  19 160  49   7   0]\n",
      " [  0   5  78 122  33   1]\n",
      " [  0   0   2  23  17   4]\n",
      " [  0   0   0   0   0   0]]\n"
     ]
    },
    {
     "name": "stderr",
     "output_type": "stream",
     "text": [
      "/media/amir/Third/Applied_Machine_Learning_S20_Assignments/aml_env/lib/python3.6/site-packages/sklearn/neural_network/_multilayer_perceptron.py:571: ConvergenceWarning: Stochastic Optimizer: Maximum iterations (200) reached and the optimization hasn't converged yet.\n",
      "  % self.max_iter, ConvergenceWarning)\n",
      "/media/amir/Third/Applied_Machine_Learning_S20_Assignments/aml_env/lib/python3.6/site-packages/sklearn/metrics/_classification.py:1272: UndefinedMetricWarning: Recall is ill-defined and being set to 0.0 in labels with no true samples. Use `zero_division` parameter to control this behavior.\n",
      "  _warn_prf(average, modifier, msg_start, len(result))\n"
     ]
    }
   ],
   "source": [
    "clf = MLPClassifier()\n",
    "clf.fit(rx, ry)\n",
    "ry_pred = clf.predict(rx_test)\n",
    "print('accuracy_score:   \\t', accuracy_score(ry_pred, ry_test),\n",
    "      '\\nprecision_score:\\t', precision_score(ry_pred, ry_test, average='weighted'),\n",
    "      '\\nrecall_score:   \\t', recall_score(ry_pred, ry_test, average='weighted'),\n",
    "      '\\nf1_score:       \\t', f1_score(ry_pred, ry_test, average='weighted'))\n",
    "print('confusion_matrix:\\n',confusion_matrix(ry_pred, ry_test))"
   ]
  },
  {
   "cell_type": "markdown",
   "metadata": {},
   "source": [
    "### White wine quality"
   ]
  },
  {
   "cell_type": "code",
   "execution_count": 107,
   "metadata": {},
   "outputs": [
    {
     "name": "stdout",
     "output_type": "stream",
     "text": [
      "accuracy_score:   \t 0.5528756957328386 \n",
      "precision_score:\t 0.6015721379070603 \n",
      "recall_score:   \t 0.5528756957328386 \n",
      "f1_score:       \t 0.5732238175676083\n",
      "confusion_matrix:\n",
      " [[  0   0   0   0   0   0   0]\n",
      " [  0   4   0   1   0   0   0]\n",
      " [  2  30 280 156   6   0   0]\n",
      " [  3  16 178 473 163  33   1]\n",
      " [  3   2   8  90 137  28   0]\n",
      " [  0   0   2   1   0   0   0]\n",
      " [  0   0   0   0   0   0   0]]\n"
     ]
    },
    {
     "name": "stderr",
     "output_type": "stream",
     "text": [
      "/media/amir/Third/Applied_Machine_Learning_S20_Assignments/aml_env/lib/python3.6/site-packages/sklearn/neural_network/_multilayer_perceptron.py:571: ConvergenceWarning: Stochastic Optimizer: Maximum iterations (200) reached and the optimization hasn't converged yet.\n",
      "  % self.max_iter, ConvergenceWarning)\n",
      "/media/amir/Third/Applied_Machine_Learning_S20_Assignments/aml_env/lib/python3.6/site-packages/sklearn/metrics/_classification.py:1272: UndefinedMetricWarning: Recall is ill-defined and being set to 0.0 in labels with no true samples. Use `zero_division` parameter to control this behavior.\n",
      "  _warn_prf(average, modifier, msg_start, len(result))\n"
     ]
    }
   ],
   "source": [
    "clf = MLPClassifier()\n",
    "clf.fit(wx, wy)\n",
    "wy_pred = clf.predict(wx_test)\n",
    "print('accuracy_score:   \\t', accuracy_score(wy_pred, wy_test),\n",
    "      '\\nprecision_score:\\t', precision_score(wy_pred, wy_test, average='weighted'),\n",
    "      '\\nrecall_score:   \\t', recall_score(wy_pred, wy_test, average='weighted'),\n",
    "      '\\nf1_score:       \\t', f1_score(wy_pred, wy_test, average='weighted'))\n",
    "print('confusion_matrix:\\n',confusion_matrix(wy_pred, wy_test))"
   ]
  },
  {
   "cell_type": "markdown",
   "metadata": {},
   "source": [
    "# Support Vector Machine"
   ]
  },
  {
   "cell_type": "markdown",
   "metadata": {},
   "source": [
    "### Red wine quality"
   ]
  },
  {
   "cell_type": "code",
   "execution_count": 90,
   "metadata": {},
   "outputs": [
    {
     "name": "stdout",
     "output_type": "stream",
     "text": [
      "accuracy_score:   \t 0.6363636363636364 \n",
      "precision_score:\t 0.7106798580298775 \n",
      "recall_score:   \t 0.6363636363636364 \n",
      "f1_score:       \t 0.6672560477747453\n",
      "confusion_matrix:\n",
      " [[  0   0   0   0   0   0]\n",
      " [  0   0   0   0   0   0]\n",
      " [  3  19 186  52   9   0]\n",
      " [  0   6  56 136  34   2]\n",
      " [  0   0   2   6  14   3]\n",
      " [  0   0   0   0   0   0]]\n"
     ]
    },
    {
     "name": "stderr",
     "output_type": "stream",
     "text": [
      "/media/amir/Third/Applied_Machine_Learning_S20_Assignments/aml_env/lib/python3.6/site-packages/sklearn/metrics/_classification.py:1272: UndefinedMetricWarning: Recall is ill-defined and being set to 0.0 in labels with no true samples. Use `zero_division` parameter to control this behavior.\n",
      "  _warn_prf(average, modifier, msg_start, len(result))\n"
     ]
    }
   ],
   "source": [
    "clf = SVC(kernel='rbf')\n",
    "clf.fit(rx, ry)\n",
    "ry_pred = clf.predict(rx_test)\n",
    "print('accuracy_score:   \\t', accuracy_score(ry_pred, ry_test),\n",
    "      '\\nprecision_score:\\t', precision_score(ry_pred, ry_test, average='weighted'),\n",
    "      '\\nrecall_score:   \\t', recall_score(ry_pred, ry_test, average='weighted'),\n",
    "      '\\nf1_score:       \\t', f1_score(ry_pred, ry_test, average='weighted'))\n",
    "print('confusion_matrix:\\n',confusion_matrix(ry_pred, ry_test))"
   ]
  },
  {
   "cell_type": "markdown",
   "metadata": {},
   "source": [
    "### White wine quality"
   ]
  },
  {
   "cell_type": "code",
   "execution_count": 92,
   "metadata": {},
   "outputs": [
    {
     "name": "stdout",
     "output_type": "stream",
     "text": [
      "accuracy_score:   \t 0.5609152752009895 \n",
      "precision_score:\t 0.7011262094712949 \n",
      "recall_score:   \t 0.5609152752009895 \n",
      "f1_score:       \t 0.6052349070645138\n",
      "confusion_matrix:\n",
      " [[  0   0   0   0   0   0   0]\n",
      " [  0   0   0   0   0   0   0]\n",
      " [  1  32 270 128   3   0   0]\n",
      " [  7  19 196 572 238  55   1]\n",
      " [  0   1   2  21  65   6   0]\n",
      " [  0   0   0   0   0   0   0]\n",
      " [  0   0   0   0   0   0   0]]\n"
     ]
    },
    {
     "name": "stderr",
     "output_type": "stream",
     "text": [
      "/media/amir/Third/Applied_Machine_Learning_S20_Assignments/aml_env/lib/python3.6/site-packages/sklearn/metrics/_classification.py:1272: UndefinedMetricWarning: Recall is ill-defined and being set to 0.0 in labels with no true samples. Use `zero_division` parameter to control this behavior.\n",
      "  _warn_prf(average, modifier, msg_start, len(result))\n"
     ]
    }
   ],
   "source": [
    "clf = SVC(kernel='rbf')\n",
    "clf.fit(wx, wy)\n",
    "wy_pred = clf.predict(wx_test)\n",
    "print('accuracy_score:   \\t', accuracy_score(wy_pred, wy_test),\n",
    "      '\\nprecision_score:\\t', precision_score(wy_pred, wy_test, average='weighted'),\n",
    "      '\\nrecall_score:   \\t', recall_score(wy_pred, wy_test, average='weighted'),\n",
    "      '\\nf1_score:       \\t', f1_score(wy_pred, wy_test, average='weighted'))\n",
    "print('confusion_matrix:\\n',confusion_matrix(wy_pred, wy_test))"
   ]
  },
  {
   "cell_type": "markdown",
   "metadata": {},
   "source": [
    "# Gaussian Naive Bayes"
   ]
  },
  {
   "cell_type": "markdown",
   "metadata": {},
   "source": [
    "### Red wine quality"
   ]
  },
  {
   "cell_type": "code",
   "execution_count": 66,
   "metadata": {},
   "outputs": [
    {
     "name": "stdout",
     "output_type": "stream",
     "text": [
      "accuracy_score:   \t 0.5132575757575758 \n",
      "precision_score:\t 0.49856987357092986 \n",
      "recall_score:   \t 0.5132575757575758 \n",
      "f1_score:       \t 0.5033352245167579\n",
      "confusion_matrix:\n",
      " [[  0   0  11   6   0   0]\n",
      " [  1   5  12   2   3   0]\n",
      " [  2  14 139  48   7   0]\n",
      " [  0   6  71 102  21   1]\n",
      " [  0   0  11  36  25   4]\n",
      " [  0   0   0   0   1   0]]\n"
     ]
    }
   ],
   "source": [
    "clf = GaussianNB()\n",
    "clf.fit(rx, ry)\n",
    "ry_pred = clf.predict(rx_test)\n",
    "print('accuracy_score:   \\t', accuracy_score(ry_pred, ry_test),\n",
    "      '\\nprecision_score:\\t', precision_score(ry_pred, ry_test, average='weighted'),\n",
    "      '\\nrecall_score:   \\t', recall_score(ry_pred, ry_test, average='weighted'),\n",
    "      '\\nf1_score:       \\t', f1_score(ry_pred, ry_test, average='weighted'))\n",
    "print('confusion_matrix:\\n',confusion_matrix(ry_pred, ry_test))"
   ]
  },
  {
   "cell_type": "markdown",
   "metadata": {},
   "source": [
    "### White wine quality"
   ]
  },
  {
   "cell_type": "code",
   "execution_count": 67,
   "metadata": {},
   "outputs": [
    {
     "name": "stdout",
     "output_type": "stream",
     "text": [
      "accuracy_score:   \t 0.46629560915275203 \n",
      "precision_score:\t 0.4824817382539501 \n",
      "recall_score:   \t 0.46629560915275203 \n",
      "f1_score:       \t 0.47116172611000834\n",
      "confusion_matrix:\n",
      " [[  0   0   0   0   0   0   0]\n",
      " [  1  11  29  33   1   1   0]\n",
      " [  4  16 238 156  27  12   0]\n",
      " [  1  19 164 346 113  21   1]\n",
      " [  2   6  37 182 159  27   0]\n",
      " [  0   0   0   3   5   0   0]\n",
      " [  0   0   0   1   1   0   0]]\n"
     ]
    },
    {
     "name": "stderr",
     "output_type": "stream",
     "text": [
      "/media/amir/Third/Applied_Machine_Learning_S20_Assignments/aml_env/lib/python3.6/site-packages/sklearn/metrics/_classification.py:1272: UndefinedMetricWarning: Recall is ill-defined and being set to 0.0 in labels with no true samples. Use `zero_division` parameter to control this behavior.\n",
      "  _warn_prf(average, modifier, msg_start, len(result))\n"
     ]
    }
   ],
   "source": [
    "clf = GaussianNB()\n",
    "clf.fit(wx, wy)\n",
    "wy_pred = clf.predict(wx_test)\n",
    "print('accuracy_score:   \\t', accuracy_score(wy_pred, wy_test),\n",
    "      '\\nprecision_score:\\t', precision_score(wy_pred, wy_test, average='weighted'),\n",
    "      '\\nrecall_score:   \\t', recall_score(wy_pred, wy_test, average='weighted'),\n",
    "      '\\nf1_score:       \\t', f1_score(wy_pred, wy_test, average='weighted'))\n",
    "print('confusion_matrix:\\n',confusion_matrix(wy_pred, wy_test))"
   ]
  },
  {
   "cell_type": "markdown",
   "metadata": {},
   "source": [
    "# Bernoulli Naive Bayes"
   ]
  },
  {
   "cell_type": "markdown",
   "metadata": {},
   "source": [
    "### Red wine quality"
   ]
  },
  {
   "cell_type": "code",
   "execution_count": 72,
   "metadata": {},
   "outputs": [
    {
     "name": "stdout",
     "output_type": "stream",
     "text": [
      "accuracy_score:   \t 0.5132575757575758 \n",
      "precision_score:\t 0.5520670974733143 \n",
      "recall_score:   \t 0.5132575757575758 \n",
      "f1_score:       \t 0.5276999683664018\n",
      "confusion_matrix:\n",
      " [[  0   0   0   0   0   0]\n",
      " [  0   0   0   0   0   0]\n",
      " [  3  21 157  69  11   0]\n",
      " [  0   4  68  85  17   0]\n",
      " [  0   0  19  40  29   5]\n",
      " [  0   0   0   0   0   0]]\n"
     ]
    },
    {
     "name": "stderr",
     "output_type": "stream",
     "text": [
      "/media/amir/Third/Applied_Machine_Learning_S20_Assignments/aml_env/lib/python3.6/site-packages/sklearn/metrics/_classification.py:1272: UndefinedMetricWarning: Recall is ill-defined and being set to 0.0 in labels with no true samples. Use `zero_division` parameter to control this behavior.\n",
      "  _warn_prf(average, modifier, msg_start, len(result))\n"
     ]
    }
   ],
   "source": [
    "clf = BernoulliNB()\n",
    "clf.fit(rx, ry)\n",
    "ry_pred = clf.predict(rx_test)\n",
    "print('accuracy_score:   \\t', accuracy_score(ry_pred, ry_test),\n",
    "      '\\nprecision_score:\\t', precision_score(ry_pred, ry_test, average='weighted'),\n",
    "      '\\nrecall_score:   \\t', recall_score(ry_pred, ry_test, average='weighted'),\n",
    "      '\\nf1_score:       \\t', f1_score(ry_pred, ry_test, average='weighted'))\n",
    "print('confusion_matrix:\\n',confusion_matrix(ry_pred, ry_test))"
   ]
  },
  {
   "cell_type": "markdown",
   "metadata": {},
   "source": [
    "### White wine quality"
   ]
  },
  {
   "cell_type": "code",
   "execution_count": 100,
   "metadata": {},
   "outputs": [
    {
     "name": "stdout",
     "output_type": "stream",
     "text": [
      "accuracy_score:   \t 0.4489795918367347 \n",
      "precision_score:\t 0.4827024027072978 \n",
      "recall_score:   \t 0.4489795918367347 \n",
      "f1_score:       \t 0.4640206801995971\n",
      "confusion_matrix:\n",
      " [[  0   0   0   0   0   0   0]\n",
      " [  0   0   0   0   0   0   0]\n",
      " [  2  22 239 186  45  12   0]\n",
      " [  3  20 173 357 131  28   1]\n",
      " [  3  10  56 178 130  21   0]\n",
      " [  0   0   0   0   0   0   0]\n",
      " [  0   0   0   0   0   0   0]]\n"
     ]
    },
    {
     "name": "stderr",
     "output_type": "stream",
     "text": [
      "/media/amir/Third/Applied_Machine_Learning_S20_Assignments/aml_env/lib/python3.6/site-packages/sklearn/metrics/_classification.py:1272: UndefinedMetricWarning: Recall is ill-defined and being set to 0.0 in labels with no true samples. Use `zero_division` parameter to control this behavior.\n",
      "  _warn_prf(average, modifier, msg_start, len(result))\n"
     ]
    }
   ],
   "source": [
    "clf = BernoulliNB()\n",
    "clf.fit(wx, wy)\n",
    "wy_pred = clf.predict(wx_test)\n",
    "print('accuracy_score:   \\t', accuracy_score(wy_pred, wy_test),\n",
    "      '\\nprecision_score:\\t', precision_score(wy_pred, wy_test, average='weighted'),\n",
    "      '\\nrecall_score:   \\t', recall_score(wy_pred, wy_test, average='weighted'),\n",
    "      '\\nf1_score:       \\t', f1_score(wy_pred, wy_test, average='weighted'))\n",
    "print('confusion_matrix:\\n',confusion_matrix(wy_pred, wy_test))"
   ]
  }
 ],
 "metadata": {
  "kernelspec": {
   "display_name": "aml_env",
   "language": "python",
   "name": "aml_env"
  },
  "language_info": {
   "codemirror_mode": {
    "name": "ipython",
    "version": 3
   },
   "file_extension": ".py",
   "mimetype": "text/x-python",
   "name": "python",
   "nbconvert_exporter": "python",
   "pygments_lexer": "ipython3",
   "version": "3.6.9"
  }
 },
 "nbformat": 4,
 "nbformat_minor": 4
}
